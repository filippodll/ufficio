{
 "cells": [
  {
   "cell_type": "code",
   "execution_count": 1,
   "metadata": {},
   "outputs": [],
   "source": [
    "\n",
    "import numpy as np\n",
    "from scipy.linalg import null_space\n",
    "from sympy import Matrix\n"
   ]
  },
  {
   "cell_type": "code",
   "execution_count": 2,
   "metadata": {},
   "outputs": [],
   "source": [
    "#definisco la matrice\n",
    "\n",
    "M = np.array([\n",
    "[ 6 , 12, 4 , 4 ,  2 , 0 , 0 , 0 , 2 , 0 , 2 , 0 , 0 , 0 , 0 ],\n",
    "\n",
    "[ 4 , 12, 0 , 0 ,  8 , 0 , 0 , 0 , 4 , 4 , 0 , 0 , 0 , 0 , 0 ],\n",
    "\n",
    "[ 8 , 8 , 8 , 8 ,  0 , 0 , 0 , 0 , 0 , 0 , 0 , 0 , 0 , 0 , 0 ],\n",
    "\n",
    "[ 8 , 12, 4 , 0 ,  4 , 0 , 0 , 0 , 0 , 4 , 0 , 0 , 0 , 0 , 0 ],\n",
    "\n",
    "[ 6 , 4 , 6 , 8 ,  0 , 2 , 2 , 2 , 0 , 0 , 0 , 2 , 0 , 0 , 0 ],\n",
    "\n",
    "[ 4 , 2 , 6 , 2 ,  2 , 2 , 2 , 2 , 4 , 2 , 0 , 2 , 0 , 0 , 2 ],\n",
    "\n",
    "[ 4 , 4 , 4 , 4 ,  2 , 2 , 2 , 2 , 2 , 2 , 2 , 0 , 0 , 2 , 0 ],\n",
    "\n",
    "[ 4 , 2 , 4 , 2 ,  2 , 4 , 2 , 4 , 2 , 2 , 0 , 2 , 2 , 0 , 0 ],\n",
    "\n",
    "[ 12, 4 , 4 , 4 ,  0 , 0 , 4 , 4 , 0 , 0 , 0 , 0 , 0 , 0 , 0 ],\n",
    "\n",
    "[ 12, 4 , 4 , 4 ,  0 , 0 , 4 , 4 , 0 , 0 , 0 , 0 , 0 , 0 , 0 ],\n",
    "\n",
    "[ 10, 6 , 6 , 2 ,  0 , 2 , 0 , 2 , 0 , 2 , 2 , 0 , 0 , 0 , 0 ],\n",
    "\n",
    "[ 8 , 0 , 8 , 0 ,  0 , 8 , 0 , 0 , 0 , 0 , 0 , 8 , 0 , 0 , 0 ],\n",
    "\n",
    "[ 0 , 0 , 0 , 0 ,  8 , 0 , 0 , 8 , 0 , 0 , 8 , 0 , 8 , 0 , 0 ],\n",
    "\n",
    "[ 8 , 4 , 4 , 0 ,  4 , 4 , 0 , 4 , 4 , 0 , 0 , 0 , 0 , 0 , 0 ],\n",
    "\n",
    "[ 0 , 8 , 16, 0 ,  0 , 0 , 0 , 0 , 0 , 0 , 0 , 0 , 8 , 0 , 0 ],\n",
    "    \n",
    "]) \n"
   ]
  },
  {
   "cell_type": "code",
   "execution_count": 3,
   "metadata": {},
   "outputs": [
    {
     "data": {
      "text/plain": [
       "array([ 3.20000000e+01+0.j        ,  1.00210212e+01+0.j        ,\n",
       "        6.62201886e+00+4.76220694j,  6.62201886e+00-4.76220694j,\n",
       "        6.77968999e+00+0.j        , -3.41972099e+00+4.06648896j,\n",
       "       -3.41972099e+00-4.06648896j, -4.04917874e+00+0.j        ,\n",
       "        3.34137611e-01+3.11601943j,  3.34137611e-01-3.11601943j,\n",
       "        2.50305097e+00+0.j        , -1.61792301e+00+0.j        ,\n",
       "       -3.54765705e-01+0.83098304j, -3.54765705e-01-0.83098304j,\n",
       "       -1.71934773e-15+0.j        ])"
      ]
     },
     "execution_count": 3,
     "metadata": {},
     "output_type": "execute_result"
    }
   ],
   "source": [
    "#S=M - (32+0.j)*np.identity(15)\n",
    "#S.nullspace()\n",
    "\n",
    "autovalori, autovettori =np.linalg.eig(M)\n",
    "\n",
    "#printo gli autovalori, il primo è 32\n",
    "autovalori"
   ]
  },
  {
   "cell_type": "code",
   "execution_count": 4,
   "metadata": {},
   "outputs": [
    {
     "data": {
      "text/plain": [
       "array([-0.25819889+0.j, -0.25819889+0.j, -0.25819889+0.j, -0.25819889+0.j,\n",
       "       -0.25819889+0.j, -0.25819889+0.j, -0.25819889+0.j, -0.25819889+0.j,\n",
       "       -0.25819889+0.j, -0.25819889+0.j, -0.25819889+0.j, -0.25819889+0.j,\n",
       "       -0.25819889+0.j, -0.25819889+0.j, -0.25819889+0.j])"
      ]
     },
     "execution_count": 4,
     "metadata": {},
     "output_type": "execute_result"
    }
   ],
   "source": [
    "#printo il primo autovettore (di autovalore 32)\n",
    "autovettori[:,0]"
   ]
  },
  {
   "cell_type": "code",
   "execution_count": 5,
   "metadata": {},
   "outputs": [
    {
     "data": {
      "text/plain": [
       "array([-8.26236447+0.j, -8.26236447+0.j, -8.26236447+0.j, -8.26236447+0.j,\n",
       "       -8.26236447+0.j, -8.26236447+0.j, -8.26236447+0.j, -8.26236447+0.j,\n",
       "       -8.26236447+0.j, -8.26236447+0.j, -8.26236447+0.j, -8.26236447+0.j,\n",
       "       -8.26236447+0.j, -8.26236447+0.j, -8.26236447+0.j])"
      ]
     },
     "execution_count": 5,
     "metadata": {},
     "output_type": "execute_result"
    }
   ],
   "source": [
    "#verifico che M*v = 32v\n",
    "np.dot(M,autovettori[:,0])"
   ]
  },
  {
   "cell_type": "code",
   "execution_count": null,
   "metadata": {},
   "outputs": [],
   "source": []
  }
 ],
 "metadata": {
  "kernelspec": {
   "display_name": "Python 3",
   "language": "python",
   "name": "python3"
  },
  "language_info": {
   "codemirror_mode": {
    "name": "ipython",
    "version": 3
   },
   "file_extension": ".py",
   "mimetype": "text/x-python",
   "name": "python",
   "nbconvert_exporter": "python",
   "pygments_lexer": "ipython3",
   "version": "3.7.6"
  }
 },
 "nbformat": 4,
 "nbformat_minor": 4
}
